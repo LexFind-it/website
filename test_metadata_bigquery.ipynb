{
 "cells": [
  {
   "cell_type": "code",
   "execution_count": 17,
   "id": "cb8145d0-d2cd-47b9-8358-d0ccb848a24f",
   "metadata": {},
   "outputs": [],
   "source": [
    "from google.cloud import bigquery\n",
    "import os"
   ]
  },
  {
   "cell_type": "code",
   "execution_count": 18,
   "id": "05532969-5bf6-413a-8b2b-3cbcb00af4e5",
   "metadata": {},
   "outputs": [],
   "source": [
    "# Initialize BigQuery client\n",
    "\n",
    "os.environ[\"GOOGLE_APPLICATION_CREDENTIALS\"] = \"/Users/Paolo/code/PaoloPiacenti/TAX_BOT/Webapp/taxfinder-mvp-a820ebb33bc5.json\"\n",
    "\n",
    "client = bigquery.Client(project=\"taxfinder-mvp\")"
   ]
  },
  {
   "cell_type": "code",
   "execution_count": 19,
   "id": "bdc87e3e-b794-4c23-b263-417a499f938f",
   "metadata": {},
   "outputs": [],
   "source": [
    "BIG_QUERY_TABLE = \"taxfinder-mvp.sources_metadata.documents_agenzia_entrate\""
   ]
  },
  {
   "cell_type": "code",
   "execution_count": 25,
   "id": "16fffe31-72e9-4496-b103-ee225d7a091b",
   "metadata": {},
   "outputs": [],
   "source": [
    "# Function to retrieve documents metadata from BigQuery\n",
    "def get_source_metadata(filename):\n",
    "    query = f\"\"\"\n",
    "    SELECT url, original_summary\n",
    "    FROM {BIG_QUERY_TABLE}\n",
    "    WHERE title = '{filename}'\n",
    "    \"\"\"  # filename is now correctly enclosed in single quotes\n",
    "    query_job = client.query(query)\n",
    "    results = query_job.result()\n",
    "    for row in results:\n",
    "        return {\"url\": row.url, \"summary\": row.original_summary}\n",
    "    return {\"url\": \"#\", \"summary\": \"Non disponibile\"}"
   ]
  },
  {
   "cell_type": "code",
   "execution_count": 26,
   "id": "8f7a8bfd-6e79-4a37-8087-d8288ce1a3e7",
   "metadata": {},
   "outputs": [],
   "source": [
    "filename = \"Risposta n. 299 del 19/04/2023\""
   ]
  },
  {
   "cell_type": "code",
   "execution_count": 27,
   "id": "d3b0dbf8-07a9-4f3f-8d69-6bb2e4c0036f",
   "metadata": {},
   "outputs": [
    {
     "data": {
      "text/plain": [
       "{'url': 'https://www.agenziaentrate.gov.it/portale/documents/20143/5187534/Risposta+n.+299_2023.pdf/1cfc4cc3-995d-f288-e5e8-aeaa7441beb4',\n",
       " 'summary': \"Vendite a distanza – rimborso dell'IVA erroneamente corrisposta in Italia – articolo 11–quater, c. 2, del d.l. n. 35 del 2005; articolo 30–ter del dPR n. 633 del 1972\"}"
      ]
     },
     "execution_count": 27,
     "metadata": {},
     "output_type": "execute_result"
    }
   ],
   "source": [
    "get_source_metadata(filename)"
   ]
  },
  {
   "cell_type": "code",
   "execution_count": null,
   "id": "977add37-be3a-4f4f-8a26-8c63a185b47c",
   "metadata": {},
   "outputs": [],
   "source": []
  }
 ],
 "metadata": {
  "kernelspec": {
   "display_name": "Python 3 (ipykernel)",
   "language": "python",
   "name": "python3"
  },
  "language_info": {
   "codemirror_mode": {
    "name": "ipython",
    "version": 3
   },
   "file_extension": ".py",
   "mimetype": "text/x-python",
   "name": "python",
   "nbconvert_exporter": "python",
   "pygments_lexer": "ipython3",
   "version": "3.10.6"
  }
 },
 "nbformat": 4,
 "nbformat_minor": 5
}
